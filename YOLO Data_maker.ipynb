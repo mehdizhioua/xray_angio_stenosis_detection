{
 "cells": [
  {
   "cell_type": "code",
   "execution_count": null,
   "id": "74c2beca",
   "metadata": {},
   "outputs": [],
   "source": [
    "img_dir = 'data/image_dir'\n",
    "xml_dir = 'data/xml_dir'\n",
    "angio_data = get_data_loader(img_dir,xml_dir,batch=25)"
   ]
  }
 ],
 "metadata": {
  "kernelspec": {
   "display_name": "Python 3",
   "language": "python",
   "name": "python3"
  },
  "language_info": {
   "codemirror_mode": {
    "name": "ipython",
    "version": 3
   },
   "file_extension": ".py",
   "mimetype": "text/x-python",
   "name": "python",
   "nbconvert_exporter": "python",
   "pygments_lexer": "ipython3",
   "version": "3.6.9"
  }
 },
 "nbformat": 4,
 "nbformat_minor": 5
}
