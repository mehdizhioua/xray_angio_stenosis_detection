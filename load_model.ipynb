{
 "cells": [
  {
   "cell_type": "code",
   "execution_count": 4,
   "metadata": {},
   "outputs": [
    {
     "name": "stderr",
     "output_type": "stream",
     "text": [
      "/Library/Frameworks/Python.framework/Versions/3.10/lib/python3.10/site-packages/torchvision/models/_utils.py:208: UserWarning: The parameter 'pretrained' is deprecated since 0.13 and may be removed in the future, please use 'weights' instead.\n",
      "  warnings.warn(\n",
      "/Library/Frameworks/Python.framework/Versions/3.10/lib/python3.10/site-packages/torchvision/models/_utils.py:223: UserWarning: Arguments other than a weight enum or `None` for 'weights' are deprecated since 0.13 and may be removed in the future. The current behavior is equivalent to passing `weights=FasterRCNN_ResNet50_FPN_Weights.COCO_V1`. You can also use `weights=FasterRCNN_ResNet50_FPN_Weights.DEFAULT` to get the most up-to-date weights.\n",
      "  warnings.warn(msg)\n"
     ]
    },
    {
     "name": "stdout",
     "output_type": "stream",
     "text": [
      "cpu\n",
      "[{'boxes': tensor([[678.7259, 284.7810, 694.8099, 518.9874]]), 'labels': tensor([1])}, {'boxes': tensor([[249.5284,   3.6717, 250.5284, 292.7893]]), 'labels': tensor([1])}, {'boxes': tensor([[ 42.4624, 588.5604, 476.3267, 589.5604]]), 'labels': tensor([1])}, {'boxes': tensor([[852.9614, 712.1835, 853.9614, 828.2308]]), 'labels': tensor([1])}, {'boxes': tensor([[933.0437, 888.2699, 934.0437, 889.2699]]), 'labels': tensor([1])}, {'boxes': tensor([[551.4678,  51.6358, 662.4887, 216.5218]]), 'labels': tensor([1])}, {'boxes': tensor([[ 137.7237,  177.1430,  296.2087, 1256.0892]]), 'labels': tensor([1])}, {'boxes': tensor([[373.0323, 240.2934, 374.0323, 241.2934]]), 'labels': tensor([1])}]\n",
      "{'loss_classifier': tensor(0.9961, grad_fn=<NllLossBackward0>), 'loss_box_reg': tensor(0.0006, grad_fn=<DivBackward0>), 'loss_objectness': tensor(0.9815, grad_fn=<BinaryCrossEntropyWithLogitsBackward0>), 'loss_rpn_box_reg': tensor(9.4870, grad_fn=<DivBackward0>)}\n"
     ]
    }
   ],
   "source": [
    "import torch\n",
    "from torchvision.models.detection import fasterrcnn_resnet50_fpn\n",
    "from torchvision.models.detection.faster_rcnn import FastRCNNPredictor\n",
    "\n",
    "device = \"cpu\"\n",
    "\n",
    "# Load the model\n",
    "model = fasterrcnn_resnet50_fpn(pretrained=True)\n",
    "\n",
    "# Change the classifier to detect only one class (background is class 0)\n",
    "num_classes = 2  # 1 class (object) + background\n",
    "in_features = model.roi_heads.box_predictor.cls_score.in_features\n",
    "model.roi_heads.box_predictor = FastRCNNPredictor(in_features, num_classes)\n",
    "\n",
    "# Assuming that we are on a CUDA machine, this should print a CUDA device:\n",
    "print(device)\n",
    "\n",
    "# Transfer the model to the GPU\n",
    "model.to(device)\n",
    "\n",
    "# Set the model in training mode\n",
    "model.train()\n",
    "\n",
    "# Create dummy data and labels\n",
    "batch_size = 8\n",
    "images = torch.randn(batch_size, 3, 512, 512).to(device)\n",
    "\n",
    "# Ensure boxes have positive width and height by using the absolute value of random numbers\n",
    "boxes = torch.abs(torch.randn(batch_size, 1, 4)).to(device) * 512  # Scale to image size\n",
    "# Make sure boxes don't overflow image boundaries\n",
    "boxes[..., 2:] = torch.where(boxes[..., 2:] < boxes[..., :2], boxes[..., :2] + 1, boxes[..., 2:])\n",
    "\n",
    "labels = torch.ones(batch_size, 1).long().to(device)\n",
    "\n",
    "# Format the labels for the Faster R-CNN\n",
    "targets = []\n",
    "for i in range(batch_size):\n",
    "    target = {}\n",
    "    target[\"boxes\"] = boxes[i]\n",
    "    target[\"labels\"] = labels[i]\n",
    "    targets.append(target)\n",
    "\n",
    "# Forward pass\n",
    "\n",
    "\n",
    "print(targets)\n",
    "output = model(images, targets)\n",
    "\n",
    "# The output is a dictionary with loss terms\n",
    "print(output)"
   ]
  },
  {
   "cell_type": "code",
   "execution_count": null,
   "metadata": {},
   "outputs": [],
   "source": []
  }
 ],
 "metadata": {
  "kernelspec": {
   "display_name": "Python 3.10.7 64-bit",
   "language": "python",
   "name": "python3"
  },
  "language_info": {
   "codemirror_mode": {
    "name": "ipython",
    "version": 3
   },
   "file_extension": ".py",
   "mimetype": "text/x-python",
   "name": "python",
   "nbconvert_exporter": "python",
   "pygments_lexer": "ipython3",
   "version": "3.10.7"
  },
  "orig_nbformat": 4,
  "vscode": {
   "interpreter": {
    "hash": "aee8b7b246df8f9039afb4144a1f6fd8d2ca17a180786b69acc140d282b71a49"
   }
  }
 },
 "nbformat": 4,
 "nbformat_minor": 2
}
