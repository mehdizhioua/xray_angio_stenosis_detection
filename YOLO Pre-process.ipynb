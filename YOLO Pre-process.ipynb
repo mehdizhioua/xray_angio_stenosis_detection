{
 "cells": [
  {
   "cell_type": "code",
   "execution_count": 3,
   "id": "f006434a",
   "metadata": {},
   "outputs": [],
   "source": [
    "import os\n",
    "import cv2\n",
    "import torch\n",
    "import torch.nn as nn\n",
    "import torch.optim as optim\n",
    "import matplotlib.pyplot as plt\n",
    "import torch.optim as optim\n",
    "from torch.utils.data import DataLoader\n",
    "from torchvision import transforms\n",
    "from PIL import Image\n",
    "import numpy as np\n",
    "import xml.etree.ElementTree as ET\n",
    "from Model import StenosisDetector\n",
    "from AngioDataset import *\n",
    "from utils import *\n",
    "import torchvision\n",
    "from bs4 import BeautifulSoup\n",
    "import lxml\n",
    "import re"
   ]
  },
  {
   "cell_type": "code",
   "execution_count": 4,
   "id": "b43b14c5",
   "metadata": {},
   "outputs": [],
   "source": [
    "#loading the data\n",
    "img_dir = 'sample_data/image_dir'\n",
    "xml_dir = 'sample_data/xml_dir'\n",
    "angio_data = get_data_loader(img_dir,xml_dir,batch=25)"
   ]
  },
  {
   "cell_type": "code",
   "execution_count": 25,
   "id": "2b1d3b84",
   "metadata": {},
   "outputs": [
    {
     "name": "stdout",
     "output_type": "stream",
     "text": [
      "Filename: 14_002_5_0016\n",
      "[295, 241, 19, 27]\n",
      "Filename: 14_002_5_0019\n",
      "[362, 274, 15, 22]\n",
      "Filename: 14_002_5_0020\n",
      "[351, 274, 13, 17]\n",
      "Filename: 14_002_5_0021\n",
      "[344, 268, 19, 20]\n",
      "Filename: 14_002_5_0018\n",
      "[356, 274, 15, 28]\n",
      "Filename: 14_002_5_0017\n",
      "[259, 273, 14, 18]\n",
      "[352, 273, 12, 19]\n"
     ]
    }
   ],
   "source": [
    "def box_data(bboxes):\n",
    "    \n",
    "    storage = []\n",
    "    for bbox in bboxes:\n",
    "        x_min, y_min, x_max, y_max = bbox[0], bbox[1], bbox[2], bbox[3]\n",
    "    \n",
    "        x_center = int(x_max + x_min // 2)\n",
    "        y_center = int(y_max + y_min // 2)\n",
    "        width = int(y_max - y_min)\n",
    "        height = int(x_max - x_min)\n",
    "        \n",
    "        storage.append([x_center, y_center, width, height])\n",
    "\n",
    "    return storage\n",
    "\n",
    "\n",
    "for filename in os.listdir(xml_dir):\n",
    "    name = (filename[:-4])\n",
    "    print('Filename:', name)\n",
    "    with open(os.path.join(xml_dir, filename), 'r') as f:\n",
    "        data = f.read()\n",
    "    bs_data = BeautifulSoup(data, 'html.parser') \n",
    "    xml_bbox = str(bs_data.find_all('bndbox'))\n",
    "    xml_target = re.findall(r'\\d+', xml_bbox)\n",
    "    int_target = [int(i) for i in xml_target]\n",
    "    boxes = [int_target[x:x+4] for x in range(0, len(int_target), 4)]\n",
    "\n",
    "    bboxes = box_data(boxes)\n",
    "    with open('sample_data/labels_dir/%s.txt' % name, 'w') as f:\n",
    "        for bbox in bboxes:\n",
    "            print(bbox)\n",
    "            f.write('stenosis ' + str(bbox[0]) + ' ' + str(bbox[1]) + ' ' + str(bbox[2]) + ' ' + str(bbox[3]) + '\\n')"
   ]
  },
  {
   "cell_type": "code",
   "execution_count": null,
   "id": "1156abbc",
   "metadata": {},
   "outputs": [],
   "source": []
  }
 ],
 "metadata": {
  "kernelspec": {
   "display_name": "Python 3",
   "language": "python",
   "name": "python3"
  },
  "language_info": {
   "codemirror_mode": {
    "name": "ipython",
    "version": 3
   },
   "file_extension": ".py",
   "mimetype": "text/x-python",
   "name": "python",
   "nbconvert_exporter": "python",
   "pygments_lexer": "ipython3",
   "version": "3.6.9"
  }
 },
 "nbformat": 4,
 "nbformat_minor": 5
}
